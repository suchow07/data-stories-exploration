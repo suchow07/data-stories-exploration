{
 "cells": [
  {
   "cell_type": "code",
   "execution_count": 1,
   "id": "47403fe9",
   "metadata": {},
   "outputs": [],
   "source": [
    "import pandas as pd\n",
    "import numpy as np\n",
    "import seaborn as sns\n",
    "import matplotlib.pyplot as plt\n",
    "import plotly.express as px"
   ]
  },
  {
   "cell_type": "markdown",
   "id": "c14a8c9b",
   "metadata": {},
   "source": [
    "##### I use the Canada Youtube trending data from Kaggle"
   ]
  },
  {
   "cell_type": "code",
   "execution_count": 2,
   "id": "c0e4e5ec",
   "metadata": {},
   "outputs": [
    {
     "data": {
      "text/html": [
       "<div>\n",
       "<style scoped>\n",
       "    .dataframe tbody tr th:only-of-type {\n",
       "        vertical-align: middle;\n",
       "    }\n",
       "\n",
       "    .dataframe tbody tr th {\n",
       "        vertical-align: top;\n",
       "    }\n",
       "\n",
       "    .dataframe thead th {\n",
       "        text-align: right;\n",
       "    }\n",
       "</style>\n",
       "<table border=\"1\" class=\"dataframe\">\n",
       "  <thead>\n",
       "    <tr style=\"text-align: right;\">\n",
       "      <th></th>\n",
       "      <th>video_id</th>\n",
       "      <th>trending_date</th>\n",
       "      <th>title</th>\n",
       "      <th>channel_title</th>\n",
       "      <th>category_id</th>\n",
       "      <th>publish_time</th>\n",
       "      <th>tags</th>\n",
       "      <th>views</th>\n",
       "      <th>likes</th>\n",
       "      <th>dislikes</th>\n",
       "      <th>comment_count</th>\n",
       "      <th>thumbnail_link</th>\n",
       "      <th>comments_disabled</th>\n",
       "      <th>ratings_disabled</th>\n",
       "      <th>video_error_or_removed</th>\n",
       "      <th>description</th>\n",
       "    </tr>\n",
       "  </thead>\n",
       "  <tbody>\n",
       "    <tr>\n",
       "      <th>0</th>\n",
       "      <td>n1WpP7iowLc</td>\n",
       "      <td>17.14.11</td>\n",
       "      <td>Eminem - Walk On Water (Audio) ft. Beyoncé</td>\n",
       "      <td>EminemVEVO</td>\n",
       "      <td>10</td>\n",
       "      <td>2017-11-10T17:00:03.000Z</td>\n",
       "      <td>Eminem|\"Walk\"|\"On\"|\"Water\"|\"Aftermath/Shady/In...</td>\n",
       "      <td>17158579</td>\n",
       "      <td>787425</td>\n",
       "      <td>43420</td>\n",
       "      <td>125882</td>\n",
       "      <td>https://i.ytimg.com/vi/n1WpP7iowLc/default.jpg</td>\n",
       "      <td>False</td>\n",
       "      <td>False</td>\n",
       "      <td>False</td>\n",
       "      <td>Eminem's new track Walk on Water ft. Beyoncé i...</td>\n",
       "    </tr>\n",
       "    <tr>\n",
       "      <th>1</th>\n",
       "      <td>0dBIkQ4Mz1M</td>\n",
       "      <td>17.14.11</td>\n",
       "      <td>PLUSH - Bad Unboxing Fan Mail</td>\n",
       "      <td>iDubbbzTV</td>\n",
       "      <td>23</td>\n",
       "      <td>2017-11-13T17:00:00.000Z</td>\n",
       "      <td>plush|\"bad unboxing\"|\"unboxing\"|\"fan mail\"|\"id...</td>\n",
       "      <td>1014651</td>\n",
       "      <td>127794</td>\n",
       "      <td>1688</td>\n",
       "      <td>13030</td>\n",
       "      <td>https://i.ytimg.com/vi/0dBIkQ4Mz1M/default.jpg</td>\n",
       "      <td>False</td>\n",
       "      <td>False</td>\n",
       "      <td>False</td>\n",
       "      <td>STill got a lot of packages. Probably will las...</td>\n",
       "    </tr>\n",
       "    <tr>\n",
       "      <th>2</th>\n",
       "      <td>5qpjK5DgCt4</td>\n",
       "      <td>17.14.11</td>\n",
       "      <td>Racist Superman | Rudy Mancuso, King Bach &amp; Le...</td>\n",
       "      <td>Rudy Mancuso</td>\n",
       "      <td>23</td>\n",
       "      <td>2017-11-12T19:05:24.000Z</td>\n",
       "      <td>racist superman|\"rudy\"|\"mancuso\"|\"king\"|\"bach\"...</td>\n",
       "      <td>3191434</td>\n",
       "      <td>146035</td>\n",
       "      <td>5339</td>\n",
       "      <td>8181</td>\n",
       "      <td>https://i.ytimg.com/vi/5qpjK5DgCt4/default.jpg</td>\n",
       "      <td>False</td>\n",
       "      <td>False</td>\n",
       "      <td>False</td>\n",
       "      <td>WATCH MY PREVIOUS VIDEO ▶ \\n\\nSUBSCRIBE ► http...</td>\n",
       "    </tr>\n",
       "  </tbody>\n",
       "</table>\n",
       "</div>"
      ],
      "text/plain": [
       "      video_id trending_date  \\\n",
       "0  n1WpP7iowLc      17.14.11   \n",
       "1  0dBIkQ4Mz1M      17.14.11   \n",
       "2  5qpjK5DgCt4      17.14.11   \n",
       "\n",
       "                                               title channel_title  \\\n",
       "0         Eminem - Walk On Water (Audio) ft. Beyoncé    EminemVEVO   \n",
       "1                      PLUSH - Bad Unboxing Fan Mail     iDubbbzTV   \n",
       "2  Racist Superman | Rudy Mancuso, King Bach & Le...  Rudy Mancuso   \n",
       "\n",
       "   category_id              publish_time  \\\n",
       "0           10  2017-11-10T17:00:03.000Z   \n",
       "1           23  2017-11-13T17:00:00.000Z   \n",
       "2           23  2017-11-12T19:05:24.000Z   \n",
       "\n",
       "                                                tags     views   likes  \\\n",
       "0  Eminem|\"Walk\"|\"On\"|\"Water\"|\"Aftermath/Shady/In...  17158579  787425   \n",
       "1  plush|\"bad unboxing\"|\"unboxing\"|\"fan mail\"|\"id...   1014651  127794   \n",
       "2  racist superman|\"rudy\"|\"mancuso\"|\"king\"|\"bach\"...   3191434  146035   \n",
       "\n",
       "   dislikes  comment_count                                  thumbnail_link  \\\n",
       "0     43420         125882  https://i.ytimg.com/vi/n1WpP7iowLc/default.jpg   \n",
       "1      1688          13030  https://i.ytimg.com/vi/0dBIkQ4Mz1M/default.jpg   \n",
       "2      5339           8181  https://i.ytimg.com/vi/5qpjK5DgCt4/default.jpg   \n",
       "\n",
       "   comments_disabled  ratings_disabled  video_error_or_removed  \\\n",
       "0              False             False                   False   \n",
       "1              False             False                   False   \n",
       "2              False             False                   False   \n",
       "\n",
       "                                         description  \n",
       "0  Eminem's new track Walk on Water ft. Beyoncé i...  \n",
       "1  STill got a lot of packages. Probably will las...  \n",
       "2  WATCH MY PREVIOUS VIDEO ▶ \\n\\nSUBSCRIBE ► http...  "
      ]
     },
     "execution_count": 2,
     "metadata": {},
     "output_type": "execute_result"
    }
   ],
   "source": [
    "df = pd.read_csv('./input/CAvideos.csv')\n",
    "df.head(3)"
   ]
  },
  {
   "cell_type": "code",
   "execution_count": 3,
   "id": "b118eb0f",
   "metadata": {},
   "outputs": [
    {
     "data": {
      "text/plain": [
       "(40881, 16)"
      ]
     },
     "execution_count": 3,
     "metadata": {},
     "output_type": "execute_result"
    }
   ],
   "source": [
    "df.shape"
   ]
  },
  {
   "cell_type": "code",
   "execution_count": 10,
   "id": "3d4a21ef",
   "metadata": {},
   "outputs": [
    {
     "data": {
      "text/plain": [
       "Index(['video_id', 'trending_date', 'title', 'channel_title', 'category_id',\n",
       "       'publish_time', 'tags', 'views', 'likes', 'dislikes', 'comment_count',\n",
       "       'thumbnail_link', 'comments_disabled', 'ratings_disabled',\n",
       "       'video_error_or_removed', 'description', 'publish_date',\n",
       "       'time_of_publish', 'publish_hour'],\n",
       "      dtype='object')"
      ]
     },
     "execution_count": 10,
     "metadata": {},
     "output_type": "execute_result"
    }
   ],
   "source": [
    "df.columns"
   ]
  },
  {
   "cell_type": "code",
   "execution_count": 4,
   "id": "7a6b58f0",
   "metadata": {},
   "outputs": [
    {
     "name": "stdout",
     "output_type": "stream",
     "text": [
      "<class 'pandas.core.frame.DataFrame'>\n",
      "RangeIndex: 40881 entries, 0 to 40880\n",
      "Data columns (total 16 columns):\n",
      " #   Column                  Non-Null Count  Dtype \n",
      "---  ------                  --------------  ----- \n",
      " 0   video_id                40881 non-null  object\n",
      " 1   trending_date           40881 non-null  object\n",
      " 2   title                   40881 non-null  object\n",
      " 3   channel_title           40881 non-null  object\n",
      " 4   category_id             40881 non-null  int64 \n",
      " 5   publish_time            40881 non-null  object\n",
      " 6   tags                    40881 non-null  object\n",
      " 7   views                   40881 non-null  int64 \n",
      " 8   likes                   40881 non-null  int64 \n",
      " 9   dislikes                40881 non-null  int64 \n",
      " 10  comment_count           40881 non-null  int64 \n",
      " 11  thumbnail_link          40881 non-null  object\n",
      " 12  comments_disabled       40881 non-null  bool  \n",
      " 13  ratings_disabled        40881 non-null  bool  \n",
      " 14  video_error_or_removed  40881 non-null  bool  \n",
      " 15  description             39585 non-null  object\n",
      "dtypes: bool(3), int64(5), object(8)\n",
      "memory usage: 4.2+ MB\n"
     ]
    }
   ],
   "source": [
    "df.info()"
   ]
  },
  {
   "cell_type": "code",
   "execution_count": 5,
   "id": "b5839476",
   "metadata": {},
   "outputs": [
    {
     "data": {
      "text/plain": [
       "video_id                     0\n",
       "trending_date                0\n",
       "title                        0\n",
       "channel_title                0\n",
       "category_id                  0\n",
       "publish_time                 0\n",
       "tags                         0\n",
       "views                        0\n",
       "likes                        0\n",
       "dislikes                     0\n",
       "comment_count                0\n",
       "thumbnail_link               0\n",
       "comments_disabled            0\n",
       "ratings_disabled             0\n",
       "video_error_or_removed       0\n",
       "description               1296\n",
       "dtype: int64"
      ]
     },
     "execution_count": 5,
     "metadata": {},
     "output_type": "execute_result"
    }
   ],
   "source": [
    "df.isnull().sum()"
   ]
  },
  {
   "cell_type": "code",
   "execution_count": 6,
   "id": "d9323cf8",
   "metadata": {},
   "outputs": [
    {
     "data": {
      "text/plain": [
       "Index(['video_id', 'trending_date', 'title', 'channel_title', 'category_id',\n",
       "       'publish_time', 'tags', 'views', 'likes', 'dislikes', 'comment_count',\n",
       "       'thumbnail_link', 'comments_disabled', 'ratings_disabled',\n",
       "       'video_error_or_removed', 'description'],\n",
       "      dtype='object')"
      ]
     },
     "execution_count": 6,
     "metadata": {},
     "output_type": "execute_result"
    }
   ],
   "source": [
    "df.columns"
   ]
  },
  {
   "cell_type": "markdown",
   "id": "46022c2a",
   "metadata": {},
   "source": [
    "### What is the best time to publish  videos on YouTube to get more views?"
   ]
  },
  {
   "cell_type": "code",
   "execution_count": 4,
   "id": "b4381c7d",
   "metadata": {},
   "outputs": [],
   "source": [
    "df['publish_date'] = df['publish_time'].apply(lambda x : str(x).split('T')[0])\n",
    "# df['time_of_publish'] = df['publish_time'].apply(lambda x : x.split('T')[1])\n",
    "df['publish_date'] = pd.to_datetime(df['publish_date'] )"
   ]
  },
  {
   "cell_type": "code",
   "execution_count": 5,
   "id": "58ff2128",
   "metadata": {},
   "outputs": [
    {
     "data": {
      "text/plain": [
       "16    3989\n",
       "17    3208\n",
       "15    2679\n",
       "Name: publish_hour, dtype: int64"
      ]
     },
     "execution_count": 5,
     "metadata": {},
     "output_type": "execute_result"
    }
   ],
   "source": [
    "df['time_of_publish'] = pd.to_datetime(df['publish_time'])\n",
    "df['publish_hour'] = df['time_of_publish'].dt.hour\n",
    "df['publish_hour'].value_counts().head(3)"
   ]
  },
  {
   "cell_type": "code",
   "execution_count": 8,
   "id": "7d3f37cf",
   "metadata": {},
   "outputs": [
    {
     "data": {
      "text/plain": [
       "publish_hour\n",
       "5     2563636\n",
       "9     2518229\n",
       "4     2158561\n",
       "8     1689870\n",
       "7     1672217\n",
       "13    1608767\n",
       "6     1488243\n",
       "12    1471429\n",
       "14    1259075\n",
       "11    1163467\n",
       "3     1146501\n",
       "15    1091099\n",
       "1     1073116\n",
       "17    1049136\n",
       "18    1027851\n",
       "0      982329\n",
       "10     975775\n",
       "21     966298\n",
       "22     949538\n",
       "20     923697\n",
       "2      893601\n",
       "19     832258\n",
       "16     765200\n",
       "23     752726\n",
       "Name: views, dtype: int32"
      ]
     },
     "execution_count": 8,
     "metadata": {},
     "output_type": "execute_result"
    }
   ],
   "source": [
    "df.groupby('publish_hour')['views'].mean().sort_values(ascending  = False).astype('int')"
   ]
  },
  {
   "cell_type": "code",
   "execution_count": 9,
   "id": "7882319f",
   "metadata": {},
   "outputs": [
    {
     "data": {
      "text/plain": [
       "publish_hour\n",
       "9     124519\n",
       "5      88170\n",
       "4      76158\n",
       "13     48023\n",
       "12     45743\n",
       "8      44679\n",
       "15     43744\n",
       "18     41839\n",
       "14     39940\n",
       "17     39665\n",
       "22     37367\n",
       "0      36876\n",
       "21     35866\n",
       "19     34233\n",
       "7      33730\n",
       "20     31503\n",
       "6      30670\n",
       "3      30408\n",
       "1      30390\n",
       "11     30071\n",
       "16     29804\n",
       "23     27415\n",
       "10     24262\n",
       "2      23261\n",
       "Name: likes, dtype: int32"
      ]
     },
     "execution_count": 9,
     "metadata": {},
     "output_type": "execute_result"
    }
   ],
   "source": [
    "df.groupby('publish_hour')['likes'].mean().sort_values(ascending  = False).astype('int')"
   ]
  },
  {
   "cell_type": "code",
   "execution_count": 11,
   "id": "d17fb2b1",
   "metadata": {},
   "outputs": [
    {
     "data": {
      "text/plain": [
       "publish_hour\n",
       "9     19454\n",
       "4      7295\n",
       "5      7141\n",
       "18     6674\n",
       "0      6158\n",
       "13     5986\n",
       "17     5965\n",
       "19     5519\n",
       "22     5155\n",
       "15     5041\n",
       "12     4880\n",
       "1      4780\n",
       "21     4767\n",
       "20     4429\n",
       "23     4371\n",
       "8      4000\n",
       "2      3891\n",
       "3      3873\n",
       "14     3635\n",
       "11     3440\n",
       "16     3206\n",
       "7      3129\n",
       "6      2893\n",
       "10     2665\n",
       "Name: comment_count, dtype: int32"
      ]
     },
     "execution_count": 11,
     "metadata": {},
     "output_type": "execute_result"
    }
   ],
   "source": [
    "df.groupby('publish_hour')['comment_count'].mean().sort_values(ascending  = False).astype('int')"
   ]
  },
  {
   "cell_type": "markdown",
   "id": "cd1e817e",
   "metadata": {},
   "source": [
    "- The best time to publish videos for gathering more views, likes and comments is around 4 pm, 5 pm and 9 pm"
   ]
  },
  {
   "cell_type": "markdown",
   "id": "058a2597",
   "metadata": {},
   "source": [
    "## Channel Title\n",
    "\n",
    "### Which channel got the highest average view? What are the top ten channel regarding views and likes?"
   ]
  },
  {
   "cell_type": "code",
   "execution_count": 7,
   "id": "82653c47",
   "metadata": {},
   "outputs": [
    {
     "data": {
      "text/plain": [
       "5076"
      ]
     },
     "execution_count": 7,
     "metadata": {},
     "output_type": "execute_result"
    }
   ],
   "source": [
    "df['channel_title'].nunique()"
   ]
  },
  {
   "cell_type": "code",
   "execution_count": 60,
   "id": "9712d6dc",
   "metadata": {},
   "outputs": [
    {
     "data": {
      "text/html": [
       "<div>\n",
       "<style scoped>\n",
       "    .dataframe tbody tr th:only-of-type {\n",
       "        vertical-align: middle;\n",
       "    }\n",
       "\n",
       "    .dataframe tbody tr th {\n",
       "        vertical-align: top;\n",
       "    }\n",
       "\n",
       "    .dataframe thead th {\n",
       "        text-align: right;\n",
       "    }\n",
       "</style>\n",
       "<table border=\"1\" class=\"dataframe\">\n",
       "  <thead>\n",
       "    <tr style=\"text-align: right;\">\n",
       "      <th></th>\n",
       "      <th>views</th>\n",
       "    </tr>\n",
       "    <tr>\n",
       "      <th>channel_title</th>\n",
       "      <th></th>\n",
       "    </tr>\n",
       "  </thead>\n",
       "  <tbody>\n",
       "    <tr>\n",
       "      <th>ChildishGambinoVEVO</th>\n",
       "      <td>51471883</td>\n",
       "    </tr>\n",
       "    <tr>\n",
       "      <th>YouTube Spotlight</th>\n",
       "      <td>48921289</td>\n",
       "    </tr>\n",
       "    <tr>\n",
       "      <th>Kylie Jenner</th>\n",
       "      <td>40375448</td>\n",
       "    </tr>\n",
       "    <tr>\n",
       "      <th>DrakeVEVO</th>\n",
       "      <td>31697292</td>\n",
       "    </tr>\n",
       "    <tr>\n",
       "      <th>FoxStarHindi</th>\n",
       "      <td>27164263</td>\n",
       "    </tr>\n",
       "    <tr>\n",
       "      <th>ibighit</th>\n",
       "      <td>26924627</td>\n",
       "    </tr>\n",
       "    <tr>\n",
       "      <th>ArianaGrandeVevo</th>\n",
       "      <td>26802485</td>\n",
       "    </tr>\n",
       "    <tr>\n",
       "      <th>Marvel Entertainment</th>\n",
       "      <td>25933851</td>\n",
       "    </tr>\n",
       "    <tr>\n",
       "      <th>Bruno Mars</th>\n",
       "      <td>24985119</td>\n",
       "    </tr>\n",
       "    <tr>\n",
       "      <th>TaylorSwiftVEVO</th>\n",
       "      <td>24978575</td>\n",
       "    </tr>\n",
       "  </tbody>\n",
       "</table>\n",
       "</div>"
      ],
      "text/plain": [
       "                         views\n",
       "channel_title                 \n",
       "ChildishGambinoVEVO   51471883\n",
       "YouTube Spotlight     48921289\n",
       "Kylie Jenner          40375448\n",
       "DrakeVEVO             31697292\n",
       "FoxStarHindi          27164263\n",
       "ibighit               26924627\n",
       "ArianaGrandeVevo      26802485\n",
       "Marvel Entertainment  25933851\n",
       "Bruno Mars            24985119\n",
       "TaylorSwiftVEVO       24978575"
      ]
     },
     "execution_count": 60,
     "metadata": {},
     "output_type": "execute_result"
    }
   ],
   "source": [
    "max_viewed = df.groupby('channel_title')['views'].mean().sort_values(ascending = False).to_frame().astype('int').head(10)\n",
    "max_viewed"
   ]
  },
  {
   "cell_type": "code",
   "execution_count": 61,
   "id": "863a170a",
   "metadata": {},
   "outputs": [
    {
     "data": {
      "image/png": "[encoded data removed]",
      "text/plain": [
       "<Figure size 600x600 with 1 Axes>"
      ]
     },
     "metadata": {},
     "output_type": "display_data"
    }
   ],
   "source": [
    "plt.figure(figsize=(6,6))\n",
    "sns.barplot(y=max_viewed.index,x=max_viewed.views,data=max_viewed,width = 0.4, palette='husl')\n",
    "plt.xlabel(\"Average number of views\")\n",
    "\n",
    "plt.show()"
   ]
  },
  {
   "cell_type": "code",
   "execution_count": 57,
   "id": "adac2c80",
   "metadata": {},
   "outputs": [
    {
     "data": {
      "image/png": "[encoded data removed]",
      "text/plain": [
       "<Figure size 600x600 with 1 Axes>"
      ]
     },
     "metadata": {},
     "output_type": "display_data"
    }
   ],
   "source": [
    "max_liked = df.groupby([\"channel_title\"])[\"likes\"].mean().sort_values(ascending=False).to_frame().head(10)\n",
    "\n",
    "plt.figure(figsize=(6,6))\n",
    "sns.barplot(y=max_liked.index,x=max_liked.likes,data=max_liked,width = 0.4, palette='husl')\n",
    "plt.xlabel(\"Average number of likes\")\n",
    "\n",
    "plt.show()"
   ]
  },
  {
   "cell_type": "markdown",
   "id": "3bd84e68",
   "metadata": {},
   "source": [
    "## Which video is the most viewed video of all?"
   ]
  },
  {
   "cell_type": "code",
   "execution_count": 56,
   "id": "d93ecd04",
   "metadata": {},
   "outputs": [
    {
     "data": {
      "text/plain": [
       "Index(['video_id', 'trending_date', 'title', 'channel_title', 'category_id',\n",
       "       'publish_time', 'tags', 'views', 'likes', 'dislikes', 'comment_count',\n",
       "       'thumbnail_link', 'comments_disabled', 'ratings_disabled',\n",
       "       'video_error_or_removed', 'description', 'publish_date',\n",
       "       'time_of_publish'],\n",
       "      dtype='object')"
      ]
     },
     "execution_count": 56,
     "metadata": {},
     "output_type": "execute_result"
    }
   ],
   "source": [
    "df.columns"
   ]
  },
  {
   "cell_type": "code",
   "execution_count": 12,
   "id": "2d9b81b5",
   "metadata": {},
   "outputs": [],
   "source": [
    "max_views = df['views'].max()"
   ]
  },
  {
   "cell_type": "code",
   "execution_count": 13,
   "id": "d5794f6c",
   "metadata": {},
   "outputs": [
    {
     "data": {
      "text/html": [
       "<div>\n",
       "<style scoped>\n",
       "    .dataframe tbody tr th:only-of-type {\n",
       "        vertical-align: middle;\n",
       "    }\n",
       "\n",
       "    .dataframe tbody tr th {\n",
       "        vertical-align: top;\n",
       "    }\n",
       "\n",
       "    .dataframe thead th {\n",
       "        text-align: right;\n",
       "    }\n",
       "</style>\n",
       "<table border=\"1\" class=\"dataframe\">\n",
       "  <thead>\n",
       "    <tr style=\"text-align: right;\">\n",
       "      <th></th>\n",
       "      <th>title</th>\n",
       "      <th>channel_title</th>\n",
       "      <th>views</th>\n",
       "    </tr>\n",
       "  </thead>\n",
       "  <tbody>\n",
       "    <tr>\n",
       "      <th>5900</th>\n",
       "      <td>YouTube Rewind: The Shape of 2017 | #YouTubeRe...</td>\n",
       "      <td>YouTube Spotlight</td>\n",
       "      <td>137843120</td>\n",
       "    </tr>\n",
       "  </tbody>\n",
       "</table>\n",
       "</div>"
      ],
      "text/plain": [
       "                                                  title      channel_title  \\\n",
       "5900  YouTube Rewind: The Shape of 2017 | #YouTubeRe...  YouTube Spotlight   \n",
       "\n",
       "          views  \n",
       "5900  137843120  "
      ]
     },
     "execution_count": 13,
     "metadata": {},
     "output_type": "execute_result"
    }
   ],
   "source": [
    "df[df['views'] == max_views][['title', 'channel_title', 'views']]"
   ]
  },
  {
   "cell_type": "code",
   "execution_count": 62,
   "id": "c5efc2c8",
   "metadata": {},
   "outputs": [
    {
     "data": {
      "text/html": [
       "<div>\n",
       "<style scoped>\n",
       "    .dataframe tbody tr th:only-of-type {\n",
       "        vertical-align: middle;\n",
       "    }\n",
       "\n",
       "    .dataframe tbody tr th {\n",
       "        vertical-align: top;\n",
       "    }\n",
       "\n",
       "    .dataframe thead th {\n",
       "        text-align: right;\n",
       "    }\n",
       "</style>\n",
       "<table border=\"1\" class=\"dataframe\">\n",
       "  <thead>\n",
       "    <tr style=\"text-align: right;\">\n",
       "      <th></th>\n",
       "      <th>title</th>\n",
       "      <th>channel_title</th>\n",
       "      <th>views</th>\n",
       "      <th>category_id</th>\n",
       "    </tr>\n",
       "  </thead>\n",
       "  <tbody>\n",
       "    <tr>\n",
       "      <th>5900</th>\n",
       "      <td>YouTube Rewind: The Shape of 2017 | #YouTubeRe...</td>\n",
       "      <td>YouTube Spotlight</td>\n",
       "      <td>137843120</td>\n",
       "      <td>24</td>\n",
       "    </tr>\n",
       "    <tr>\n",
       "      <th>5623</th>\n",
       "      <td>YouTube Rewind: The Shape of 2017 | #YouTubeRe...</td>\n",
       "      <td>YouTube Spotlight</td>\n",
       "      <td>125431369</td>\n",
       "      <td>24</td>\n",
       "    </tr>\n",
       "    <tr>\n",
       "      <th>5398</th>\n",
       "      <td>YouTube Rewind: The Shape of 2017 | #YouTubeRe...</td>\n",
       "      <td>YouTube Spotlight</td>\n",
       "      <td>113876217</td>\n",
       "      <td>24</td>\n",
       "    </tr>\n",
       "    <tr>\n",
       "      <th>5197</th>\n",
       "      <td>YouTube Rewind: The Shape of 2017 | #YouTubeRe...</td>\n",
       "      <td>YouTube Spotlight</td>\n",
       "      <td>100911567</td>\n",
       "      <td>24</td>\n",
       "    </tr>\n",
       "    <tr>\n",
       "      <th>34361</th>\n",
       "      <td>Childish Gambino - This Is America (Official V...</td>\n",
       "      <td>ChildishGambinoVEVO</td>\n",
       "      <td>98938809</td>\n",
       "      <td>10</td>\n",
       "    </tr>\n",
       "  </tbody>\n",
       "</table>\n",
       "</div>"
      ],
      "text/plain": [
       "                                                   title        channel_title  \\\n",
       "5900   YouTube Rewind: The Shape of 2017 | #YouTubeRe...    YouTube Spotlight   \n",
       "5623   YouTube Rewind: The Shape of 2017 | #YouTubeRe...    YouTube Spotlight   \n",
       "5398   YouTube Rewind: The Shape of 2017 | #YouTubeRe...    YouTube Spotlight   \n",
       "5197   YouTube Rewind: The Shape of 2017 | #YouTubeRe...    YouTube Spotlight   \n",
       "34361  Childish Gambino - This Is America (Official V...  ChildishGambinoVEVO   \n",
       "\n",
       "           views  category_id  \n",
       "5900   137843120           24  \n",
       "5623   125431369           24  \n",
       "5398   113876217           24  \n",
       "5197   100911567           24  \n",
       "34361   98938809           10  "
      ]
     },
     "execution_count": 62,
     "metadata": {},
     "output_type": "execute_result"
    }
   ],
   "source": [
    "df.sort_values(by = 'views', ascending = False)[['title', 'channel_title', 'views','category_id']].head(5)"
   ]
  },
  {
   "cell_type": "markdown",
   "id": "443c9640",
   "metadata": {},
   "source": [
    "## Which video is the most liked video of all?"
   ]
  },
  {
   "cell_type": "code",
   "execution_count": 17,
   "id": "a94dfc49",
   "metadata": {},
   "outputs": [],
   "source": [
    "df['likes_per_view'] = round(100 * df['likes']/df['views'], 3)"
   ]
  },
  {
   "cell_type": "code",
   "execution_count": 18,
   "id": "41424b25",
   "metadata": {},
   "outputs": [
    {
     "data": {
      "text/html": [
       "<div>\n",
       "<style scoped>\n",
       "    .dataframe tbody tr th:only-of-type {\n",
       "        vertical-align: middle;\n",
       "    }\n",
       "\n",
       "    .dataframe tbody tr th {\n",
       "        vertical-align: top;\n",
       "    }\n",
       "\n",
       "    .dataframe thead th {\n",
       "        text-align: right;\n",
       "    }\n",
       "</style>\n",
       "<table border=\"1\" class=\"dataframe\">\n",
       "  <thead>\n",
       "    <tr style=\"text-align: right;\">\n",
       "      <th></th>\n",
       "      <th>title</th>\n",
       "      <th>channel_title</th>\n",
       "      <th>views</th>\n",
       "      <th>likes</th>\n",
       "      <th>likes_per_view</th>\n",
       "    </tr>\n",
       "  </thead>\n",
       "  <tbody>\n",
       "    <tr>\n",
       "      <th>36453</th>\n",
       "      <td>BTS (방탄소년단) 'FAKE LOVE' Official MV</td>\n",
       "      <td>ibighit</td>\n",
       "      <td>80738011</td>\n",
       "      <td>5053338</td>\n",
       "      <td>6.259</td>\n",
       "    </tr>\n",
       "  </tbody>\n",
       "</table>\n",
       "</div>"
      ],
      "text/plain": [
       "                                     title channel_title     views    likes  \\\n",
       "36453  BTS (방탄소년단) 'FAKE LOVE' Official MV       ibighit  80738011  5053338   \n",
       "\n",
       "       likes_per_view  \n",
       "36453           6.259  "
      ]
     },
     "execution_count": 18,
     "metadata": {},
     "output_type": "execute_result"
    }
   ],
   "source": [
    "df[df['likes'] == df['likes'].max()][['title', 'channel_title', 'views', 'likes', 'likes_per_view']]"
   ]
  },
  {
   "cell_type": "code",
   "execution_count": 19,
   "id": "3daf8002",
   "metadata": {},
   "outputs": [],
   "source": [
    "max_liked = df['likes_per_view'].max()"
   ]
  },
  {
   "cell_type": "code",
   "execution_count": 20,
   "id": "90b9de02",
   "metadata": {},
   "outputs": [
    {
     "data": {
      "text/html": [
       "<div>\n",
       "<style scoped>\n",
       "    .dataframe tbody tr th:only-of-type {\n",
       "        vertical-align: middle;\n",
       "    }\n",
       "\n",
       "    .dataframe tbody tr th {\n",
       "        vertical-align: top;\n",
       "    }\n",
       "\n",
       "    .dataframe thead th {\n",
       "        text-align: right;\n",
       "    }\n",
       "</style>\n",
       "<table border=\"1\" class=\"dataframe\">\n",
       "  <thead>\n",
       "    <tr style=\"text-align: right;\">\n",
       "      <th></th>\n",
       "      <th>title</th>\n",
       "      <th>channel_title</th>\n",
       "      <th>views</th>\n",
       "      <th>likes</th>\n",
       "      <th>likes_per_view</th>\n",
       "    </tr>\n",
       "  </thead>\n",
       "  <tbody>\n",
       "    <tr>\n",
       "      <th>16999</th>\n",
       "      <td>BlocBoy JB &amp; Drake Look Alive Prod By: Tay Kei...</td>\n",
       "      <td>BlocBoy JB</td>\n",
       "      <td>38441</td>\n",
       "      <td>17318</td>\n",
       "      <td>45.051</td>\n",
       "    </tr>\n",
       "  </tbody>\n",
       "</table>\n",
       "</div>"
      ],
      "text/plain": [
       "                                                   title channel_title  views  \\\n",
       "16999  BlocBoy JB & Drake Look Alive Prod By: Tay Kei...    BlocBoy JB  38441   \n",
       "\n",
       "       likes  likes_per_view  \n",
       "16999  17318          45.051  "
      ]
     },
     "execution_count": 20,
     "metadata": {},
     "output_type": "execute_result"
    }
   ],
   "source": [
    "df[df['likes_per_view'] == max_liked][['title', 'channel_title', 'views', 'likes', 'likes_per_view']]"
   ]
  },
  {
   "cell_type": "code",
   "execution_count": 63,
   "id": "e2642ecc",
   "metadata": {},
   "outputs": [
    {
     "data": {
      "text/html": [
       "<div>\n",
       "<style scoped>\n",
       "    .dataframe tbody tr th:only-of-type {\n",
       "        vertical-align: middle;\n",
       "    }\n",
       "\n",
       "    .dataframe tbody tr th {\n",
       "        vertical-align: top;\n",
       "    }\n",
       "\n",
       "    .dataframe thead th {\n",
       "        text-align: right;\n",
       "    }\n",
       "</style>\n",
       "<table border=\"1\" class=\"dataframe\">\n",
       "  <thead>\n",
       "    <tr style=\"text-align: right;\">\n",
       "      <th></th>\n",
       "      <th>title</th>\n",
       "      <th>channel_title</th>\n",
       "      <th>views</th>\n",
       "      <th>likes</th>\n",
       "      <th>likes_per_view</th>\n",
       "    </tr>\n",
       "  </thead>\n",
       "  <tbody>\n",
       "    <tr>\n",
       "      <th>16999</th>\n",
       "      <td>BlocBoy JB &amp; Drake Look Alive Prod By: Tay Kei...</td>\n",
       "      <td>BlocBoy JB</td>\n",
       "      <td>38441</td>\n",
       "      <td>17318</td>\n",
       "      <td>45.051</td>\n",
       "    </tr>\n",
       "    <tr>\n",
       "      <th>6309</th>\n",
       "      <td>PADMAN Official Trailer | Akshay Kumar | Sonam...</td>\n",
       "      <td>Sony Pictures India</td>\n",
       "      <td>178709</td>\n",
       "      <td>71984</td>\n",
       "      <td>40.280</td>\n",
       "    </tr>\n",
       "    <tr>\n",
       "      <th>4508</th>\n",
       "      <td>The Reaction of The Streets (I Wait-Day6 Edition)</td>\n",
       "      <td>JaeSix</td>\n",
       "      <td>88889</td>\n",
       "      <td>25599</td>\n",
       "      <td>28.799</td>\n",
       "    </tr>\n",
       "    <tr>\n",
       "      <th>10200</th>\n",
       "      <td>Bruno Mars - Finesse (Remix) [Feat. Cardi B] [...</td>\n",
       "      <td>Bruno Mars</td>\n",
       "      <td>567412</td>\n",
       "      <td>159390</td>\n",
       "      <td>28.091</td>\n",
       "    </tr>\n",
       "    <tr>\n",
       "      <th>17918</th>\n",
       "      <td>Un Film Pour Raphael</td>\n",
       "      <td>Émile Roy</td>\n",
       "      <td>6463</td>\n",
       "      <td>1724</td>\n",
       "      <td>26.675</td>\n",
       "    </tr>\n",
       "  </tbody>\n",
       "</table>\n",
       "</div>"
      ],
      "text/plain": [
       "                                                   title        channel_title  \\\n",
       "16999  BlocBoy JB & Drake Look Alive Prod By: Tay Kei...           BlocBoy JB   \n",
       "6309   PADMAN Official Trailer | Akshay Kumar | Sonam...  Sony Pictures India   \n",
       "4508   The Reaction of The Streets (I Wait-Day6 Edition)               JaeSix   \n",
       "10200  Bruno Mars - Finesse (Remix) [Feat. Cardi B] [...           Bruno Mars   \n",
       "17918                               Un Film Pour Raphael            Émile Roy   \n",
       "\n",
       "        views   likes  likes_per_view  \n",
       "16999   38441   17318          45.051  \n",
       "6309   178709   71984          40.280  \n",
       "4508    88889   25599          28.799  \n",
       "10200  567412  159390          28.091  \n",
       "17918    6463    1724          26.675  "
      ]
     },
     "execution_count": 63,
     "metadata": {},
     "output_type": "execute_result"
    }
   ],
   "source": [
    "df.sort_values(by = 'likes_per_view', ascending = False)[['title', 'channel_title', 'views', 'likes', 'likes_per_view']].head(5)"
   ]
  },
  {
   "cell_type": "markdown",
   "id": "fcbc16cb",
   "metadata": {},
   "source": [
    "### Which video have the most online discussion?"
   ]
  },
  {
   "cell_type": "code",
   "execution_count": 64,
   "id": "521166fe",
   "metadata": {},
   "outputs": [
    {
     "data": {
      "text/html": [
       "<div>\n",
       "<style scoped>\n",
       "    .dataframe tbody tr th:only-of-type {\n",
       "        vertical-align: middle;\n",
       "    }\n",
       "\n",
       "    .dataframe tbody tr th {\n",
       "        vertical-align: top;\n",
       "    }\n",
       "\n",
       "    .dataframe thead th {\n",
       "        text-align: right;\n",
       "    }\n",
       "</style>\n",
       "<table border=\"1\" class=\"dataframe\">\n",
       "  <thead>\n",
       "    <tr style=\"text-align: right;\">\n",
       "      <th></th>\n",
       "      <th>title</th>\n",
       "      <th>channel_title</th>\n",
       "      <th>views</th>\n",
       "      <th>likes</th>\n",
       "      <th>comment_count</th>\n",
       "      <th>comments_per_view</th>\n",
       "    </tr>\n",
       "  </thead>\n",
       "  <tbody>\n",
       "    <tr>\n",
       "      <th>10949</th>\n",
       "      <td>GUCCI MADE ME PINK CUSTOM LUGGAGE! + HANDBAG G...</td>\n",
       "      <td>jeffreestar</td>\n",
       "      <td>811601</td>\n",
       "      <td>108516</td>\n",
       "      <td>247214</td>\n",
       "      <td>0.304600</td>\n",
       "    </tr>\n",
       "    <tr>\n",
       "      <th>9653</th>\n",
       "      <td>Why I'm Deleting SkyDoesMinecraft (Midnight HST)</td>\n",
       "      <td>Sky Did Minecraft</td>\n",
       "      <td>193053</td>\n",
       "      <td>21294</td>\n",
       "      <td>58011</td>\n",
       "      <td>0.300493</td>\n",
       "    </tr>\n",
       "    <tr>\n",
       "      <th>15804</th>\n",
       "      <td>FULL FACE FIRST IMPRESSIONS | TRYING $1,000 OF...</td>\n",
       "      <td>jeffreestar</td>\n",
       "      <td>888946</td>\n",
       "      <td>92003</td>\n",
       "      <td>192976</td>\n",
       "      <td>0.217084</td>\n",
       "    </tr>\n",
       "    <tr>\n",
       "      <th>16043</th>\n",
       "      <td>FULL FACE FIRST IMPRESSIONS | TRYING $1,000 OF...</td>\n",
       "      <td>jeffreestar</td>\n",
       "      <td>1457429</td>\n",
       "      <td>125571</td>\n",
       "      <td>262658</td>\n",
       "      <td>0.180220</td>\n",
       "    </tr>\n",
       "    <tr>\n",
       "      <th>2323</th>\n",
       "      <td>My $2500 iPhone X Setup! + NEW iPhone X Giveaway</td>\n",
       "      <td>EverythingApplePro</td>\n",
       "      <td>199971</td>\n",
       "      <td>21607</td>\n",
       "      <td>35316</td>\n",
       "      <td>0.176606</td>\n",
       "    </tr>\n",
       "  </tbody>\n",
       "</table>\n",
       "</div>"
      ],
      "text/plain": [
       "                                                   title       channel_title  \\\n",
       "10949  GUCCI MADE ME PINK CUSTOM LUGGAGE! + HANDBAG G...         jeffreestar   \n",
       "9653    Why I'm Deleting SkyDoesMinecraft (Midnight HST)   Sky Did Minecraft   \n",
       "15804  FULL FACE FIRST IMPRESSIONS | TRYING $1,000 OF...         jeffreestar   \n",
       "16043  FULL FACE FIRST IMPRESSIONS | TRYING $1,000 OF...         jeffreestar   \n",
       "2323    My $2500 iPhone X Setup! + NEW iPhone X Giveaway  EverythingApplePro   \n",
       "\n",
       "         views   likes  comment_count  comments_per_view  \n",
       "10949   811601  108516         247214           0.304600  \n",
       "9653    193053   21294          58011           0.300493  \n",
       "15804   888946   92003         192976           0.217084  \n",
       "16043  1457429  125571         262658           0.180220  \n",
       "2323    199971   21607          35316           0.176606  "
      ]
     },
     "execution_count": 64,
     "metadata": {},
     "output_type": "execute_result"
    }
   ],
   "source": [
    "df['comments_per_view']= df['comment_count']/df['views']\n",
    "df.sort_values(by = 'comments_per_view', ascending = False)[['title', 'channel_title', 'views','likes', 'comment_count', 'comments_per_view']].head(5)"
   ]
  },
  {
   "cell_type": "code",
   "execution_count": 65,
   "id": "a3ca65e4",
   "metadata": {},
   "outputs": [
    {
     "data": {
      "text/html": [
       "<div>\n",
       "<style scoped>\n",
       "    .dataframe tbody tr th:only-of-type {\n",
       "        vertical-align: middle;\n",
       "    }\n",
       "\n",
       "    .dataframe tbody tr th {\n",
       "        vertical-align: top;\n",
       "    }\n",
       "\n",
       "    .dataframe thead th {\n",
       "        text-align: right;\n",
       "    }\n",
       "</style>\n",
       "<table border=\"1\" class=\"dataframe\">\n",
       "  <thead>\n",
       "    <tr style=\"text-align: right;\">\n",
       "      <th></th>\n",
       "      <th>title</th>\n",
       "      <th>channel_title</th>\n",
       "      <th>views</th>\n",
       "      <th>likes</th>\n",
       "      <th>comment_count</th>\n",
       "      <th>comments_per_view</th>\n",
       "      <th>views_per_comment</th>\n",
       "    </tr>\n",
       "  </thead>\n",
       "  <tbody>\n",
       "    <tr>\n",
       "      <th>10949</th>\n",
       "      <td>GUCCI MADE ME PINK CUSTOM LUGGAGE! + HANDBAG G...</td>\n",
       "      <td>jeffreestar</td>\n",
       "      <td>811601</td>\n",
       "      <td>108516</td>\n",
       "      <td>247214</td>\n",
       "      <td>0.304600</td>\n",
       "      <td>3.282990</td>\n",
       "    </tr>\n",
       "    <tr>\n",
       "      <th>9653</th>\n",
       "      <td>Why I'm Deleting SkyDoesMinecraft (Midnight HST)</td>\n",
       "      <td>Sky Did Minecraft</td>\n",
       "      <td>193053</td>\n",
       "      <td>21294</td>\n",
       "      <td>58011</td>\n",
       "      <td>0.300493</td>\n",
       "      <td>3.327869</td>\n",
       "    </tr>\n",
       "    <tr>\n",
       "      <th>15804</th>\n",
       "      <td>FULL FACE FIRST IMPRESSIONS | TRYING $1,000 OF...</td>\n",
       "      <td>jeffreestar</td>\n",
       "      <td>888946</td>\n",
       "      <td>92003</td>\n",
       "      <td>192976</td>\n",
       "      <td>0.217084</td>\n",
       "      <td>4.606511</td>\n",
       "    </tr>\n",
       "    <tr>\n",
       "      <th>16043</th>\n",
       "      <td>FULL FACE FIRST IMPRESSIONS | TRYING $1,000 OF...</td>\n",
       "      <td>jeffreestar</td>\n",
       "      <td>1457429</td>\n",
       "      <td>125571</td>\n",
       "      <td>262658</td>\n",
       "      <td>0.180220</td>\n",
       "      <td>5.548771</td>\n",
       "    </tr>\n",
       "    <tr>\n",
       "      <th>2323</th>\n",
       "      <td>My $2500 iPhone X Setup! + NEW iPhone X Giveaway</td>\n",
       "      <td>EverythingApplePro</td>\n",
       "      <td>199971</td>\n",
       "      <td>21607</td>\n",
       "      <td>35316</td>\n",
       "      <td>0.176606</td>\n",
       "      <td>5.662334</td>\n",
       "    </tr>\n",
       "  </tbody>\n",
       "</table>\n",
       "</div>"
      ],
      "text/plain": [
       "                                                   title       channel_title  \\\n",
       "10949  GUCCI MADE ME PINK CUSTOM LUGGAGE! + HANDBAG G...         jeffreestar   \n",
       "9653    Why I'm Deleting SkyDoesMinecraft (Midnight HST)   Sky Did Minecraft   \n",
       "15804  FULL FACE FIRST IMPRESSIONS | TRYING $1,000 OF...         jeffreestar   \n",
       "16043  FULL FACE FIRST IMPRESSIONS | TRYING $1,000 OF...         jeffreestar   \n",
       "2323    My $2500 iPhone X Setup! + NEW iPhone X Giveaway  EverythingApplePro   \n",
       "\n",
       "         views   likes  comment_count  comments_per_view  views_per_comment  \n",
       "10949   811601  108516         247214           0.304600           3.282990  \n",
       "9653    193053   21294          58011           0.300493           3.327869  \n",
       "15804   888946   92003         192976           0.217084           4.606511  \n",
       "16043  1457429  125571         262658           0.180220           5.548771  \n",
       "2323    199971   21607          35316           0.176606           5.662334  "
      ]
     },
     "execution_count": 65,
     "metadata": {},
     "output_type": "execute_result"
    }
   ],
   "source": [
    "df['views_per_comment']= df['views']/ df['comment_count']\n",
    "df.sort_values(by = 'views_per_comment')[['title', 'channel_title', 'views','likes', \n",
    "                                          'comment_count', 'comments_per_view','views_per_comment']].head(5)"
   ]
  },
  {
   "cell_type": "markdown",
   "id": "caed6d64",
   "metadata": {},
   "source": [
    "### Correlation"
   ]
  },
  {
   "cell_type": "code",
   "execution_count": 39,
   "id": "1f3e4feb",
   "metadata": {},
   "outputs": [
    {
     "data": {
      "image/png": "[encoded data removed]",
      "text/plain": [
       "<Figure size 1000x400 with 3 Axes>"
      ]
     },
     "metadata": {},
     "output_type": "display_data"
    }
   ],
   "source": [
    "corr_columns = ['views', 'likes', 'dislikes', 'comment_count']\n",
    "correlation = df[corr_columns].corr().round(2)\n",
    "\n",
    "\n",
    "fig = plt.figure(figsize= (10,4))\n",
    "\n",
    "ax1 = fig.add_subplot(121)\n",
    "sns.heatmap(correlation, annot=True)\n",
    "plt.title('Correlation')\n",
    "\n",
    "\n",
    "ax2 = fig.add_subplot(122)\n",
    "sns.regplot(data = df, x= 'views', y = 'likes')\n",
    "plt.title('Positive correlation between views and likes')\n",
    "plt.show()"
   ]
  },
  {
   "cell_type": "markdown",
   "id": "3ddf7938",
   "metadata": {},
   "source": [
    "### Which Category has the most views?"
   ]
  },
  {
   "cell_type": "code",
   "execution_count": 67,
   "id": "56168333",
   "metadata": {},
   "outputs": [
    {
     "data": {
      "text/plain": [
       "category_id\n",
       "10    3532524\n",
       "30    2853415\n",
       "29    1562184\n",
       "1     1426728\n",
       "28    1233844\n",
       "17    1075583\n",
       "24    1016371\n",
       "23     982888\n",
       "20     923759\n",
       "22     786413\n",
       "26     782683\n",
       "15     638461\n",
       "43     577012\n",
       "2      566759\n",
       "27     536602\n",
       "25     388220\n",
       "19     366701\n",
       "Name: views, dtype: int32"
      ]
     },
     "execution_count": 67,
     "metadata": {},
     "output_type": "execute_result"
    }
   ],
   "source": [
    "df.groupby('category_id')['views'].mean().sort_values(ascending = False).astype('int')"
   ]
  },
  {
   "cell_type": "code",
   "execution_count": null,
   "id": "dde52274",
   "metadata": {},
   "outputs": [],
   "source": []
  },
  {
   "cell_type": "markdown",
   "id": "60ff4ea6",
   "metadata": {},
   "source": [
    "### Time required to become trending\n",
    "\n",
    "#### Which channel gets its videos trending quickly"
   ]
  },
  {
   "cell_type": "code",
   "execution_count": 26,
   "id": "63c6e217",
   "metadata": {},
   "outputs": [],
   "source": [
    "df['trending_date'] = pd.to_datetime(df['trending_date'], format = '%y.%d.%m')"
   ]
  },
  {
   "cell_type": "code",
   "execution_count": 79,
   "id": "14d5e7a1",
   "metadata": {},
   "outputs": [],
   "source": [
    "df['trending_time'] = df['trending_date']  - df['publish_date']\n",
    "df['trending_time'] = df.trending_time.apply(lambda x : pd.to_numeric(str(x).split()[0]))"
   ]
  },
  {
   "cell_type": "code",
   "execution_count": 83,
   "id": "f55921af",
   "metadata": {},
   "outputs": [
    {
     "data": {
      "text/html": [
       "<div>\n",
       "<style scoped>\n",
       "    .dataframe tbody tr th:only-of-type {\n",
       "        vertical-align: middle;\n",
       "    }\n",
       "\n",
       "    .dataframe tbody tr th {\n",
       "        vertical-align: top;\n",
       "    }\n",
       "\n",
       "    .dataframe thead th {\n",
       "        text-align: right;\n",
       "    }\n",
       "</style>\n",
       "<table border=\"1\" class=\"dataframe\">\n",
       "  <thead>\n",
       "    <tr style=\"text-align: right;\">\n",
       "      <th></th>\n",
       "      <th>channel_title</th>\n",
       "      <th>days</th>\n",
       "    </tr>\n",
       "  </thead>\n",
       "  <tbody>\n",
       "    <tr>\n",
       "      <th>0</th>\n",
       "      <td>HUGO CAICEDO</td>\n",
       "      <td>0.0</td>\n",
       "    </tr>\n",
       "    <tr>\n",
       "      <th>1</th>\n",
       "      <td>CaldwellBPanda</td>\n",
       "      <td>0.0</td>\n",
       "    </tr>\n",
       "    <tr>\n",
       "      <th>2</th>\n",
       "      <td>I AM WILDCAT</td>\n",
       "      <td>0.0</td>\n",
       "    </tr>\n",
       "    <tr>\n",
       "      <th>3</th>\n",
       "      <td>Pipocando</td>\n",
       "      <td>0.0</td>\n",
       "    </tr>\n",
       "    <tr>\n",
       "      <th>4</th>\n",
       "      <td>Raptors Republic</td>\n",
       "      <td>0.0</td>\n",
       "    </tr>\n",
       "    <tr>\n",
       "      <th>5</th>\n",
       "      <td>Sam</td>\n",
       "      <td>0.0</td>\n",
       "    </tr>\n",
       "    <tr>\n",
       "      <th>6</th>\n",
       "      <td>DOVE TELEVISION</td>\n",
       "      <td>0.0</td>\n",
       "    </tr>\n",
       "    <tr>\n",
       "      <th>7</th>\n",
       "      <td>Lanki Thuy</td>\n",
       "      <td>0.0</td>\n",
       "    </tr>\n",
       "    <tr>\n",
       "      <th>8</th>\n",
       "      <td>Nomadic Fanatic</td>\n",
       "      <td>0.0</td>\n",
       "    </tr>\n",
       "    <tr>\n",
       "      <th>9</th>\n",
       "      <td>IG - Daily</td>\n",
       "      <td>0.0</td>\n",
       "    </tr>\n",
       "  </tbody>\n",
       "</table>\n",
       "</div>"
      ],
      "text/plain": [
       "      channel_title  days\n",
       "0      HUGO CAICEDO   0.0\n",
       "1    CaldwellBPanda   0.0\n",
       "2      I AM WILDCAT   0.0\n",
       "3         Pipocando   0.0\n",
       "4  Raptors Republic   0.0\n",
       "5               Sam   0.0\n",
       "6   DOVE TELEVISION   0.0\n",
       "7        Lanki Thuy   0.0\n",
       "8   Nomadic Fanatic   0.0\n",
       "9        IG - Daily   0.0"
      ]
     },
     "execution_count": 83,
     "metadata": {},
     "output_type": "execute_result"
    }
   ],
   "source": [
    "df.groupby('channel_title')['trending_time'].mean().sort_values().reset_index(name = 'days').head(10)"
   ]
  },
  {
   "cell_type": "code",
   "execution_count": 86,
   "id": "b5b6c980",
   "metadata": {},
   "outputs": [
    {
     "data": {
      "text/html": [
       "<div>\n",
       "<style scoped>\n",
       "    .dataframe tbody tr th:only-of-type {\n",
       "        vertical-align: middle;\n",
       "    }\n",
       "\n",
       "    .dataframe tbody tr th {\n",
       "        vertical-align: top;\n",
       "    }\n",
       "\n",
       "    .dataframe thead th {\n",
       "        text-align: right;\n",
       "    }\n",
       "</style>\n",
       "<table border=\"1\" class=\"dataframe\">\n",
       "  <thead>\n",
       "    <tr style=\"text-align: right;\">\n",
       "      <th></th>\n",
       "      <th>channel_title</th>\n",
       "      <th>days</th>\n",
       "    </tr>\n",
       "  </thead>\n",
       "  <tbody>\n",
       "    <tr>\n",
       "      <th>0</th>\n",
       "      <td>nenuostabu</td>\n",
       "      <td>3657.5</td>\n",
       "    </tr>\n",
       "    <tr>\n",
       "      <th>1</th>\n",
       "      <td>lbisurfer</td>\n",
       "      <td>3584.0</td>\n",
       "    </tr>\n",
       "    <tr>\n",
       "      <th>2</th>\n",
       "      <td>KatieWear</td>\n",
       "      <td>3196.0</td>\n",
       "    </tr>\n",
       "    <tr>\n",
       "      <th>3</th>\n",
       "      <td>westsidewillz</td>\n",
       "      <td>2894.0</td>\n",
       "    </tr>\n",
       "    <tr>\n",
       "      <th>4</th>\n",
       "      <td>Josh McConnell</td>\n",
       "      <td>1853.0</td>\n",
       "    </tr>\n",
       "    <tr>\n",
       "      <th>5</th>\n",
       "      <td>launchpadgames</td>\n",
       "      <td>1706.0</td>\n",
       "    </tr>\n",
       "    <tr>\n",
       "      <th>6</th>\n",
       "      <td>bethyalamode</td>\n",
       "      <td>1696.5</td>\n",
       "    </tr>\n",
       "    <tr>\n",
       "      <th>7</th>\n",
       "      <td>Bill Omar</td>\n",
       "      <td>1653.0</td>\n",
       "    </tr>\n",
       "    <tr>\n",
       "      <th>8</th>\n",
       "      <td>CranberriesVEVO</td>\n",
       "      <td>1630.5</td>\n",
       "    </tr>\n",
       "    <tr>\n",
       "      <th>9</th>\n",
       "      <td>SpikeySpotify</td>\n",
       "      <td>1498.0</td>\n",
       "    </tr>\n",
       "  </tbody>\n",
       "</table>\n",
       "</div>"
      ],
      "text/plain": [
       "     channel_title    days\n",
       "0       nenuostabu  3657.5\n",
       "1        lbisurfer  3584.0\n",
       "2        KatieWear  3196.0\n",
       "3    westsidewillz  2894.0\n",
       "4   Josh McConnell  1853.0\n",
       "5   launchpadgames  1706.0\n",
       "6     bethyalamode  1696.5\n",
       "7        Bill Omar  1653.0\n",
       "8  CranberriesVEVO  1630.5\n",
       "9    SpikeySpotify  1498.0"
      ]
     },
     "execution_count": 86,
     "metadata": {},
     "output_type": "execute_result"
    }
   ],
   "source": [
    "# Which channels took more time to be trending\n",
    "\n",
    "df.groupby('channel_title')['trending_time'].mean().sort_values(ascending = False).reset_index(name = 'days').head(10)"
   ]
  },
  {
   "cell_type": "code",
   "execution_count": null,
   "id": "82a05db4",
   "metadata": {},
   "outputs": [],
   "source": []
  },
  {
   "cell_type": "code",
   "execution_count": null,
   "id": "9f7213ad",
   "metadata": {},
   "outputs": [],
   "source": []
  },
  {
   "cell_type": "code",
   "execution_count": null,
   "id": "1254cc7c",
   "metadata": {},
   "outputs": [],
   "source": []
  },
  {
   "cell_type": "code",
   "execution_count": null,
   "id": "1da259c1",
   "metadata": {},
   "outputs": [],
   "source": []
  },
  {
   "cell_type": "code",
   "execution_count": null,
   "id": "d88d3fe7",
   "metadata": {},
   "outputs": [],
   "source": []
  },
  {
   "cell_type": "code",
   "execution_count": null,
   "id": "58e6b2f3",
   "metadata": {},
   "outputs": [],
   "source": []
  },
  {
   "cell_type": "code",
   "execution_count": null,
   "id": "5f22a35c",
   "metadata": {},
   "outputs": [],
   "source": []
  }
 ],
 "metadata": {
  "kernelspec": {
   "display_name": "Python 3 (ipykernel)",
   "language": "python",
   "name": "python3"
  },
  "language_info": {
   "codemirror_mode": {
    "name": "ipython",
    "version": 3
   },
   "file_extension": ".py",
   "mimetype": "text/x-python",
   "name": "python",
   "nbconvert_exporter": "python",
   "pygments_lexer": "ipython3",
   "version": "3.10.8"
  }
 },
 "nbformat": 4,
 "nbformat_minor": 5
}
